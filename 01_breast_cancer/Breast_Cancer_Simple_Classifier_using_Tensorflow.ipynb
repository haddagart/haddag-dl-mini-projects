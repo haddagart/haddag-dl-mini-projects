{
  "nbformat": 4,
  "nbformat_minor": 0,
  "metadata": {
    "colab": {
      "provenance": [],
      "collapsed_sections": [
        "gdaXgujDy9cm"
      ]
    },
    "kernelspec": {
      "name": "python3",
      "display_name": "Python 3"
    },
    "language_info": {
      "name": "python"
    }
  },
  "cells": [
    {
      "cell_type": "markdown",
      "source": [
        "# Data preparation"
      ],
      "metadata": {
        "id": "uGw4ewdPy02J"
      }
    },
    {
      "cell_type": "code",
      "source": [
        "RANDOM_SEED = 42"
      ],
      "metadata": {
        "id": "bWfAlyVX26oA"
      },
      "execution_count": 3,
      "outputs": []
    },
    {
      "cell_type": "markdown",
      "source": [
        "## Load the data"
      ],
      "metadata": {
        "id": "gdaXgujDy9cm"
      }
    },
    {
      "cell_type": "code",
      "execution_count": 4,
      "metadata": {
        "id": "2RKT8-vtxmoc"
      },
      "outputs": [],
      "source": [
        "from sklearn.datasets import load_breast_cancer"
      ]
    },
    {
      "cell_type": "code",
      "source": [
        "data = load_breast_cancer()"
      ],
      "metadata": {
        "id": "G_sDCIYlxzCu"
      },
      "execution_count": 5,
      "outputs": []
    },
    {
      "cell_type": "code",
      "source": [
        "print(type(data), data.keys(), sep=\"\\n\", )"
      ],
      "metadata": {
        "colab": {
          "base_uri": "https://localhost:8080/"
        },
        "id": "KR0u_APtx7VL",
        "outputId": "8aaae351-be3a-424c-e4cf-c6adaff4263b"
      },
      "execution_count": 6,
      "outputs": [
        {
          "output_type": "stream",
          "name": "stdout",
          "text": [
            "<class 'sklearn.utils._bunch.Bunch'>\n",
            "dict_keys(['data', 'target', 'frame', 'target_names', 'DESCR', 'feature_names', 'filename', 'data_module'])\n"
          ]
        }
      ]
    },
    {
      "cell_type": "markdown",
      "source": [
        "## Split the data"
      ],
      "metadata": {
        "id": "fPIx1v6ry_VO"
      }
    },
    {
      "cell_type": "code",
      "source": [
        "from sklearn.model_selection import train_test_split"
      ],
      "metadata": {
        "id": "glH_bv7MyEfK"
      },
      "execution_count": 7,
      "outputs": []
    },
    {
      "cell_type": "code",
      "source": [
        "train_X, test_X, train_y, test_y = train_test_split(\n",
        "    data.data, data.target,\n",
        "    test_size = .3,\n",
        "    random_state = RANDOM_SEED,\n",
        ")"
      ],
      "metadata": {
        "id": "-_gM07AzyVyE"
      },
      "execution_count": 8,
      "outputs": []
    },
    {
      "cell_type": "markdown",
      "source": [
        "## Preprocess the data"
      ],
      "metadata": {
        "id": "mliePoHBzI_D"
      }
    },
    {
      "cell_type": "code",
      "source": [
        "from sklearn.preprocessing import StandardScaler"
      ],
      "metadata": {
        "id": "SGXyMHjXyyeC"
      },
      "execution_count": 9,
      "outputs": []
    },
    {
      "cell_type": "code",
      "source": [
        "scaler = StandardScaler()\n",
        "train_X = scaler.fit_transform(train_X)\n",
        "test_X = scaler.transform(test_X)"
      ],
      "metadata": {
        "id": "MCCQMXn5zOii"
      },
      "execution_count": 10,
      "outputs": []
    },
    {
      "cell_type": "code",
      "source": [
        "examples_n, features_n = data.data.shape"
      ],
      "metadata": {
        "id": "U5N8rWnr0DbX"
      },
      "execution_count": 11,
      "outputs": []
    },
    {
      "cell_type": "markdown",
      "source": [
        "# Training"
      ],
      "metadata": {
        "id": "kcIRthzIzm9C"
      }
    },
    {
      "cell_type": "markdown",
      "source": [
        "## Build the model"
      ],
      "metadata": {
        "id": "2F2wQ3obzozD"
      }
    },
    {
      "cell_type": "code",
      "source": [
        "import tensorflow as tf"
      ],
      "metadata": {
        "id": "QTMP04fyzdaD"
      },
      "execution_count": 12,
      "outputs": []
    },
    {
      "cell_type": "code",
      "source": [
        "tf.random.set_seed(RANDOM_SEED)"
      ],
      "metadata": {
        "id": "r8U6ctpA2GGN"
      },
      "execution_count": 13,
      "outputs": []
    },
    {
      "cell_type": "code",
      "source": [
        "model = tf.keras.models.Sequential(\n",
        "    layers = [\n",
        "        tf.keras.layers.Input(shape=(features_n, ), ),\n",
        "        tf.keras.layers.Dense(units=1, activation=\"sigmoid\", ),\n",
        "    ]\n",
        ")"
      ],
      "metadata": {
        "id": "EYrRiYAHztGF"
      },
      "execution_count": 14,
      "outputs": []
    },
    {
      "cell_type": "code",
      "source": [
        "model.compile(\n",
        "    optimizer=\"adam\",\n",
        "    loss=\"binary_crossentropy\",\n",
        "    metrics=[\"accuracy\",],\n",
        ")"
      ],
      "metadata": {
        "id": "YolGfPrw0sYA"
      },
      "execution_count": 15,
      "outputs": []
    },
    {
      "cell_type": "markdown",
      "source": [
        "## Train the model"
      ],
      "metadata": {
        "id": "N-JohZSp0xHD"
      }
    },
    {
      "cell_type": "code",
      "source": [
        "r = model.fit(\n",
        "    x= train_X,\n",
        "    y= train_y,\n",
        "    validation_data= (test_X, test_y),\n",
        "    epochs=100,\n",
        ")"
      ],
      "metadata": {
        "colab": {
          "base_uri": "https://localhost:8080/"
        },
        "id": "T3dyraHZ0wIz",
        "outputId": "7785cfd6-cd6d-4287-cf03-728f1eab4553"
      },
      "execution_count": 16,
      "outputs": [
        {
          "output_type": "stream",
          "name": "stdout",
          "text": [
            "Epoch 1/100\n",
            "13/13 [==============================] - 1s 23ms/step - loss: 0.6798 - accuracy: 0.5628 - val_loss: 0.6278 - val_accuracy: 0.6316\n",
            "Epoch 2/100\n",
            "13/13 [==============================] - 0s 6ms/step - loss: 0.6041 - accuracy: 0.6583 - val_loss: 0.5610 - val_accuracy: 0.7368\n",
            "Epoch 3/100\n",
            "13/13 [==============================] - 0s 4ms/step - loss: 0.5447 - accuracy: 0.7312 - val_loss: 0.5029 - val_accuracy: 0.7836\n",
            "Epoch 4/100\n",
            "13/13 [==============================] - 0s 5ms/step - loss: 0.4919 - accuracy: 0.8015 - val_loss: 0.4562 - val_accuracy: 0.8246\n",
            "Epoch 5/100\n",
            "13/13 [==============================] - 0s 5ms/step - loss: 0.4507 - accuracy: 0.8518 - val_loss: 0.4168 - val_accuracy: 0.8596\n",
            "Epoch 6/100\n",
            "13/13 [==============================] - 0s 5ms/step - loss: 0.4165 - accuracy: 0.8719 - val_loss: 0.3844 - val_accuracy: 0.9064\n",
            "Epoch 7/100\n",
            "13/13 [==============================] - 0s 5ms/step - loss: 0.3880 - accuracy: 0.8894 - val_loss: 0.3576 - val_accuracy: 0.9123\n",
            "Epoch 8/100\n",
            "13/13 [==============================] - 0s 5ms/step - loss: 0.3638 - accuracy: 0.9020 - val_loss: 0.3347 - val_accuracy: 0.9181\n",
            "Epoch 9/100\n",
            "13/13 [==============================] - 0s 6ms/step - loss: 0.3430 - accuracy: 0.9070 - val_loss: 0.3151 - val_accuracy: 0.9240\n",
            "Epoch 10/100\n",
            "13/13 [==============================] - 0s 5ms/step - loss: 0.3257 - accuracy: 0.9095 - val_loss: 0.2976 - val_accuracy: 0.9298\n",
            "Epoch 11/100\n",
            "13/13 [==============================] - 0s 6ms/step - loss: 0.3103 - accuracy: 0.9121 - val_loss: 0.2824 - val_accuracy: 0.9298\n",
            "Epoch 12/100\n",
            "13/13 [==============================] - 0s 5ms/step - loss: 0.2966 - accuracy: 0.9171 - val_loss: 0.2691 - val_accuracy: 0.9357\n",
            "Epoch 13/100\n",
            "13/13 [==============================] - 0s 5ms/step - loss: 0.2847 - accuracy: 0.9246 - val_loss: 0.2571 - val_accuracy: 0.9474\n",
            "Epoch 14/100\n",
            "13/13 [==============================] - 0s 6ms/step - loss: 0.2738 - accuracy: 0.9246 - val_loss: 0.2461 - val_accuracy: 0.9474\n",
            "Epoch 15/100\n",
            "13/13 [==============================] - 0s 6ms/step - loss: 0.2642 - accuracy: 0.9246 - val_loss: 0.2363 - val_accuracy: 0.9474\n",
            "Epoch 16/100\n",
            "13/13 [==============================] - 0s 6ms/step - loss: 0.2552 - accuracy: 0.9246 - val_loss: 0.2273 - val_accuracy: 0.9474\n",
            "Epoch 17/100\n",
            "13/13 [==============================] - 0s 5ms/step - loss: 0.2471 - accuracy: 0.9246 - val_loss: 0.2192 - val_accuracy: 0.9532\n",
            "Epoch 18/100\n",
            "13/13 [==============================] - 0s 5ms/step - loss: 0.2398 - accuracy: 0.9271 - val_loss: 0.2116 - val_accuracy: 0.9532\n",
            "Epoch 19/100\n",
            "13/13 [==============================] - 0s 5ms/step - loss: 0.2329 - accuracy: 0.9296 - val_loss: 0.2047 - val_accuracy: 0.9532\n",
            "Epoch 20/100\n",
            "13/13 [==============================] - 0s 6ms/step - loss: 0.2266 - accuracy: 0.9322 - val_loss: 0.1981 - val_accuracy: 0.9532\n",
            "Epoch 21/100\n",
            "13/13 [==============================] - 0s 5ms/step - loss: 0.2207 - accuracy: 0.9347 - val_loss: 0.1922 - val_accuracy: 0.9532\n",
            "Epoch 22/100\n",
            "13/13 [==============================] - 0s 6ms/step - loss: 0.2153 - accuracy: 0.9372 - val_loss: 0.1866 - val_accuracy: 0.9532\n",
            "Epoch 23/100\n",
            "13/13 [==============================] - 0s 6ms/step - loss: 0.2102 - accuracy: 0.9372 - val_loss: 0.1814 - val_accuracy: 0.9532\n",
            "Epoch 24/100\n",
            "13/13 [==============================] - 0s 5ms/step - loss: 0.2054 - accuracy: 0.9372 - val_loss: 0.1766 - val_accuracy: 0.9532\n",
            "Epoch 25/100\n",
            "13/13 [==============================] - 0s 6ms/step - loss: 0.2010 - accuracy: 0.9372 - val_loss: 0.1721 - val_accuracy: 0.9532\n",
            "Epoch 26/100\n",
            "13/13 [==============================] - 0s 5ms/step - loss: 0.1969 - accuracy: 0.9372 - val_loss: 0.1677 - val_accuracy: 0.9532\n",
            "Epoch 27/100\n",
            "13/13 [==============================] - 0s 4ms/step - loss: 0.1928 - accuracy: 0.9397 - val_loss: 0.1637 - val_accuracy: 0.9532\n",
            "Epoch 28/100\n",
            "13/13 [==============================] - 0s 5ms/step - loss: 0.1890 - accuracy: 0.9447 - val_loss: 0.1599 - val_accuracy: 0.9532\n",
            "Epoch 29/100\n",
            "13/13 [==============================] - 0s 6ms/step - loss: 0.1856 - accuracy: 0.9447 - val_loss: 0.1563 - val_accuracy: 0.9532\n",
            "Epoch 30/100\n",
            "13/13 [==============================] - 0s 5ms/step - loss: 0.1823 - accuracy: 0.9472 - val_loss: 0.1529 - val_accuracy: 0.9591\n",
            "Epoch 31/100\n",
            "13/13 [==============================] - 0s 5ms/step - loss: 0.1790 - accuracy: 0.9472 - val_loss: 0.1497 - val_accuracy: 0.9591\n",
            "Epoch 32/100\n",
            "13/13 [==============================] - 0s 5ms/step - loss: 0.1761 - accuracy: 0.9472 - val_loss: 0.1467 - val_accuracy: 0.9591\n",
            "Epoch 33/100\n",
            "13/13 [==============================] - 0s 5ms/step - loss: 0.1732 - accuracy: 0.9472 - val_loss: 0.1438 - val_accuracy: 0.9591\n",
            "Epoch 34/100\n",
            "13/13 [==============================] - 0s 5ms/step - loss: 0.1705 - accuracy: 0.9472 - val_loss: 0.1411 - val_accuracy: 0.9591\n",
            "Epoch 35/100\n",
            "13/13 [==============================] - 0s 6ms/step - loss: 0.1679 - accuracy: 0.9472 - val_loss: 0.1383 - val_accuracy: 0.9591\n",
            "Epoch 36/100\n",
            "13/13 [==============================] - 0s 5ms/step - loss: 0.1653 - accuracy: 0.9497 - val_loss: 0.1358 - val_accuracy: 0.9591\n",
            "Epoch 37/100\n",
            "13/13 [==============================] - 0s 5ms/step - loss: 0.1629 - accuracy: 0.9497 - val_loss: 0.1334 - val_accuracy: 0.9591\n",
            "Epoch 38/100\n",
            "13/13 [==============================] - 0s 5ms/step - loss: 0.1606 - accuracy: 0.9523 - val_loss: 0.1311 - val_accuracy: 0.9591\n",
            "Epoch 39/100\n",
            "13/13 [==============================] - 0s 6ms/step - loss: 0.1584 - accuracy: 0.9548 - val_loss: 0.1289 - val_accuracy: 0.9591\n",
            "Epoch 40/100\n",
            "13/13 [==============================] - 0s 6ms/step - loss: 0.1562 - accuracy: 0.9548 - val_loss: 0.1267 - val_accuracy: 0.9591\n",
            "Epoch 41/100\n",
            "13/13 [==============================] - 0s 6ms/step - loss: 0.1542 - accuracy: 0.9548 - val_loss: 0.1247 - val_accuracy: 0.9591\n",
            "Epoch 42/100\n",
            "13/13 [==============================] - 0s 5ms/step - loss: 0.1523 - accuracy: 0.9548 - val_loss: 0.1226 - val_accuracy: 0.9591\n",
            "Epoch 43/100\n",
            "13/13 [==============================] - 0s 5ms/step - loss: 0.1503 - accuracy: 0.9548 - val_loss: 0.1207 - val_accuracy: 0.9591\n",
            "Epoch 44/100\n",
            "13/13 [==============================] - 0s 6ms/step - loss: 0.1485 - accuracy: 0.9548 - val_loss: 0.1190 - val_accuracy: 0.9649\n",
            "Epoch 45/100\n",
            "13/13 [==============================] - 0s 5ms/step - loss: 0.1467 - accuracy: 0.9573 - val_loss: 0.1172 - val_accuracy: 0.9649\n",
            "Epoch 46/100\n",
            "13/13 [==============================] - 0s 6ms/step - loss: 0.1451 - accuracy: 0.9573 - val_loss: 0.1156 - val_accuracy: 0.9649\n",
            "Epoch 47/100\n",
            "13/13 [==============================] - 0s 6ms/step - loss: 0.1434 - accuracy: 0.9573 - val_loss: 0.1141 - val_accuracy: 0.9649\n",
            "Epoch 48/100\n",
            "13/13 [==============================] - 0s 6ms/step - loss: 0.1419 - accuracy: 0.9573 - val_loss: 0.1124 - val_accuracy: 0.9649\n",
            "Epoch 49/100\n",
            "13/13 [==============================] - 0s 6ms/step - loss: 0.1403 - accuracy: 0.9573 - val_loss: 0.1110 - val_accuracy: 0.9649\n",
            "Epoch 50/100\n",
            "13/13 [==============================] - 0s 6ms/step - loss: 0.1389 - accuracy: 0.9573 - val_loss: 0.1096 - val_accuracy: 0.9649\n",
            "Epoch 51/100\n",
            "13/13 [==============================] - 0s 5ms/step - loss: 0.1375 - accuracy: 0.9573 - val_loss: 0.1082 - val_accuracy: 0.9649\n",
            "Epoch 52/100\n",
            "13/13 [==============================] - 0s 5ms/step - loss: 0.1361 - accuracy: 0.9598 - val_loss: 0.1069 - val_accuracy: 0.9649\n",
            "Epoch 53/100\n",
            "13/13 [==============================] - 0s 5ms/step - loss: 0.1348 - accuracy: 0.9623 - val_loss: 0.1056 - val_accuracy: 0.9649\n",
            "Epoch 54/100\n",
            "13/13 [==============================] - 0s 5ms/step - loss: 0.1336 - accuracy: 0.9623 - val_loss: 0.1044 - val_accuracy: 0.9708\n",
            "Epoch 55/100\n",
            "13/13 [==============================] - 0s 6ms/step - loss: 0.1323 - accuracy: 0.9623 - val_loss: 0.1032 - val_accuracy: 0.9708\n",
            "Epoch 56/100\n",
            "13/13 [==============================] - 0s 6ms/step - loss: 0.1311 - accuracy: 0.9623 - val_loss: 0.1021 - val_accuracy: 0.9708\n",
            "Epoch 57/100\n",
            "13/13 [==============================] - 0s 5ms/step - loss: 0.1299 - accuracy: 0.9623 - val_loss: 0.1010 - val_accuracy: 0.9708\n",
            "Epoch 58/100\n",
            "13/13 [==============================] - 0s 6ms/step - loss: 0.1288 - accuracy: 0.9623 - val_loss: 0.0999 - val_accuracy: 0.9708\n",
            "Epoch 59/100\n",
            "13/13 [==============================] - 0s 5ms/step - loss: 0.1277 - accuracy: 0.9623 - val_loss: 0.0989 - val_accuracy: 0.9708\n",
            "Epoch 60/100\n",
            "13/13 [==============================] - 0s 6ms/step - loss: 0.1266 - accuracy: 0.9623 - val_loss: 0.0979 - val_accuracy: 0.9708\n",
            "Epoch 61/100\n",
            "13/13 [==============================] - 0s 5ms/step - loss: 0.1255 - accuracy: 0.9623 - val_loss: 0.0969 - val_accuracy: 0.9708\n",
            "Epoch 62/100\n",
            "13/13 [==============================] - 0s 5ms/step - loss: 0.1245 - accuracy: 0.9648 - val_loss: 0.0959 - val_accuracy: 0.9708\n",
            "Epoch 63/100\n",
            "13/13 [==============================] - 0s 5ms/step - loss: 0.1235 - accuracy: 0.9648 - val_loss: 0.0949 - val_accuracy: 0.9766\n",
            "Epoch 64/100\n",
            "13/13 [==============================] - 0s 6ms/step - loss: 0.1225 - accuracy: 0.9648 - val_loss: 0.0940 - val_accuracy: 0.9766\n",
            "Epoch 65/100\n",
            "13/13 [==============================] - 0s 6ms/step - loss: 0.1216 - accuracy: 0.9648 - val_loss: 0.0931 - val_accuracy: 0.9766\n",
            "Epoch 66/100\n",
            "13/13 [==============================] - 0s 5ms/step - loss: 0.1207 - accuracy: 0.9673 - val_loss: 0.0923 - val_accuracy: 0.9766\n",
            "Epoch 67/100\n",
            "13/13 [==============================] - 0s 5ms/step - loss: 0.1198 - accuracy: 0.9673 - val_loss: 0.0914 - val_accuracy: 0.9766\n",
            "Epoch 68/100\n",
            "13/13 [==============================] - 0s 5ms/step - loss: 0.1189 - accuracy: 0.9673 - val_loss: 0.0906 - val_accuracy: 0.9825\n",
            "Epoch 69/100\n",
            "13/13 [==============================] - 0s 6ms/step - loss: 0.1181 - accuracy: 0.9648 - val_loss: 0.0898 - val_accuracy: 0.9825\n",
            "Epoch 70/100\n",
            "13/13 [==============================] - 0s 5ms/step - loss: 0.1172 - accuracy: 0.9648 - val_loss: 0.0891 - val_accuracy: 0.9825\n",
            "Epoch 71/100\n",
            "13/13 [==============================] - 0s 5ms/step - loss: 0.1164 - accuracy: 0.9673 - val_loss: 0.0883 - val_accuracy: 0.9825\n",
            "Epoch 72/100\n",
            "13/13 [==============================] - 0s 5ms/step - loss: 0.1156 - accuracy: 0.9698 - val_loss: 0.0876 - val_accuracy: 0.9825\n",
            "Epoch 73/100\n",
            "13/13 [==============================] - 0s 6ms/step - loss: 0.1149 - accuracy: 0.9698 - val_loss: 0.0869 - val_accuracy: 0.9883\n",
            "Epoch 74/100\n",
            "13/13 [==============================] - 0s 5ms/step - loss: 0.1141 - accuracy: 0.9698 - val_loss: 0.0863 - val_accuracy: 0.9883\n",
            "Epoch 75/100\n",
            "13/13 [==============================] - 0s 6ms/step - loss: 0.1133 - accuracy: 0.9698 - val_loss: 0.0856 - val_accuracy: 0.9883\n",
            "Epoch 76/100\n",
            "13/13 [==============================] - 0s 6ms/step - loss: 0.1126 - accuracy: 0.9698 - val_loss: 0.0849 - val_accuracy: 0.9883\n",
            "Epoch 77/100\n",
            "13/13 [==============================] - 0s 5ms/step - loss: 0.1119 - accuracy: 0.9698 - val_loss: 0.0843 - val_accuracy: 0.9883\n",
            "Epoch 78/100\n",
            "13/13 [==============================] - 0s 6ms/step - loss: 0.1112 - accuracy: 0.9698 - val_loss: 0.0837 - val_accuracy: 0.9883\n",
            "Epoch 79/100\n",
            "13/13 [==============================] - 0s 7ms/step - loss: 0.1106 - accuracy: 0.9698 - val_loss: 0.0831 - val_accuracy: 0.9883\n",
            "Epoch 80/100\n",
            "13/13 [==============================] - 0s 19ms/step - loss: 0.1099 - accuracy: 0.9698 - val_loss: 0.0825 - val_accuracy: 0.9883\n",
            "Epoch 81/100\n",
            "13/13 [==============================] - 0s 31ms/step - loss: 0.1092 - accuracy: 0.9724 - val_loss: 0.0819 - val_accuracy: 0.9883\n",
            "Epoch 82/100\n",
            "13/13 [==============================] - 0s 7ms/step - loss: 0.1086 - accuracy: 0.9749 - val_loss: 0.0814 - val_accuracy: 0.9883\n",
            "Epoch 83/100\n",
            "13/13 [==============================] - 0s 20ms/step - loss: 0.1080 - accuracy: 0.9749 - val_loss: 0.0808 - val_accuracy: 0.9883\n",
            "Epoch 84/100\n",
            "13/13 [==============================] - 0s 13ms/step - loss: 0.1074 - accuracy: 0.9749 - val_loss: 0.0803 - val_accuracy: 0.9883\n",
            "Epoch 85/100\n",
            "13/13 [==============================] - 0s 8ms/step - loss: 0.1068 - accuracy: 0.9749 - val_loss: 0.0798 - val_accuracy: 0.9883\n",
            "Epoch 86/100\n",
            "13/13 [==============================] - 0s 12ms/step - loss: 0.1062 - accuracy: 0.9749 - val_loss: 0.0793 - val_accuracy: 0.9883\n",
            "Epoch 87/100\n",
            "13/13 [==============================] - 0s 28ms/step - loss: 0.1056 - accuracy: 0.9749 - val_loss: 0.0788 - val_accuracy: 0.9883\n",
            "Epoch 88/100\n",
            "13/13 [==============================] - 0s 13ms/step - loss: 0.1050 - accuracy: 0.9749 - val_loss: 0.0783 - val_accuracy: 0.9883\n",
            "Epoch 89/100\n",
            "13/13 [==============================] - 0s 14ms/step - loss: 0.1045 - accuracy: 0.9749 - val_loss: 0.0778 - val_accuracy: 0.9883\n",
            "Epoch 90/100\n",
            "13/13 [==============================] - 0s 25ms/step - loss: 0.1040 - accuracy: 0.9749 - val_loss: 0.0773 - val_accuracy: 0.9883\n",
            "Epoch 91/100\n",
            "13/13 [==============================] - 0s 26ms/step - loss: 0.1034 - accuracy: 0.9749 - val_loss: 0.0769 - val_accuracy: 0.9883\n",
            "Epoch 92/100\n",
            "13/13 [==============================] - 0s 28ms/step - loss: 0.1029 - accuracy: 0.9749 - val_loss: 0.0764 - val_accuracy: 0.9883\n",
            "Epoch 93/100\n",
            "13/13 [==============================] - 0s 10ms/step - loss: 0.1024 - accuracy: 0.9749 - val_loss: 0.0760 - val_accuracy: 0.9883\n",
            "Epoch 94/100\n",
            "13/13 [==============================] - 0s 19ms/step - loss: 0.1018 - accuracy: 0.9749 - val_loss: 0.0755 - val_accuracy: 0.9883\n",
            "Epoch 95/100\n",
            "13/13 [==============================] - 0s 14ms/step - loss: 0.1014 - accuracy: 0.9749 - val_loss: 0.0752 - val_accuracy: 0.9883\n",
            "Epoch 96/100\n",
            "13/13 [==============================] - 0s 11ms/step - loss: 0.1009 - accuracy: 0.9749 - val_loss: 0.0748 - val_accuracy: 0.9883\n",
            "Epoch 97/100\n",
            "13/13 [==============================] - 0s 22ms/step - loss: 0.1004 - accuracy: 0.9749 - val_loss: 0.0743 - val_accuracy: 0.9883\n",
            "Epoch 98/100\n",
            "13/13 [==============================] - 0s 11ms/step - loss: 0.0999 - accuracy: 0.9749 - val_loss: 0.0739 - val_accuracy: 0.9883\n",
            "Epoch 99/100\n",
            "13/13 [==============================] - 0s 11ms/step - loss: 0.0995 - accuracy: 0.9749 - val_loss: 0.0735 - val_accuracy: 0.9883\n",
            "Epoch 100/100\n",
            "13/13 [==============================] - 0s 7ms/step - loss: 0.0990 - accuracy: 0.9749 - val_loss: 0.0731 - val_accuracy: 0.9883\n"
          ]
        }
      ]
    },
    {
      "cell_type": "markdown",
      "source": [
        "## Evaluate the model"
      ],
      "metadata": {
        "id": "VbSVlu7U3kk5"
      }
    },
    {
      "cell_type": "code",
      "source": [
        "print(\"Training score: \", model.evaluate(train_X, train_y))\n",
        "print(\"Validation score: \", model.evaluate(test_X, test_y))"
      ],
      "metadata": {
        "colab": {
          "base_uri": "https://localhost:8080/"
        },
        "id": "pNyBTAfm1myx",
        "outputId": "fafcfbcf-d1b6-41b2-f36d-333a0b4ad009"
      },
      "execution_count": 17,
      "outputs": [
        {
          "output_type": "stream",
          "name": "stdout",
          "text": [
            "13/13 [==============================] - 0s 2ms/step - loss: 0.0987 - accuracy: 0.9749\n",
            "Training score:  [0.09869495779275894, 0.9748743772506714]\n",
            "6/6 [==============================] - 0s 4ms/step - loss: 0.0731 - accuracy: 0.9883\n",
            "Validation score:  [0.07312221080064774, 0.988304078578949]\n"
          ]
        }
      ]
    },
    {
      "cell_type": "code",
      "source": [
        "from matplotlib import pyplot as plt"
      ],
      "metadata": {
        "id": "ArBDVirD3fee"
      },
      "execution_count": 18,
      "outputs": []
    },
    {
      "cell_type": "code",
      "source": [
        "plt.plot(r.history['loss'], label='Training loss')\n",
        "plt.plot(r.history['val_loss'], label='Validation loss')\n",
        "plt.legend()\n",
        "plt.title(\"Traing vs. Validation loss ...\")\n",
        "plt.show()"
      ],
      "metadata": {
        "colab": {
          "base_uri": "https://localhost:8080/",
          "height": 452
        },
        "id": "Yj4lSjqA3q5l",
        "outputId": "8e69e6e3-eac8-4180-9716-ff0f3124456b"
      },
      "execution_count": 19,
      "outputs": [
        {
          "output_type": "display_data",
          "data": {
            "text/plain": [
              "<Figure size 640x480 with 1 Axes>"
            ],
            "image/png": "[encoded data removed]"
          },
          "metadata": {}
        }
      ]
    },
    {
      "cell_type": "code",
      "source": [
        "plt.plot(r.history['accuracy'], label=\"Training accuracy\")\n",
        "plt.plot(r.history['val_accuracy'], label=\"Validation accuracy\")\n",
        "plt.legend()\n",
        "plt.title(\"Training vs. validation accuracy ...\")\n",
        "plt.show()"
      ],
      "metadata": {
        "colab": {
          "base_uri": "https://localhost:8080/",
          "height": 452
        },
        "id": "UuEUpofi4Fl9",
        "outputId": "c459ab3a-c3c1-4146-bec5-29c96244c641"
      },
      "execution_count": 20,
      "outputs": [
        {
          "output_type": "display_data",
          "data": {
            "text/plain": [
              "<Figure size 640x480 with 1 Axes>"
            ],
            "image/png": "[encoded data removed]"
          },
          "metadata": {}
        }
      ]
    },
    {
      "cell_type": "markdown",
      "source": [
        "# Prediction"
      ],
      "metadata": {
        "id": "UzghMwLCLPkv"
      }
    },
    {
      "cell_type": "code",
      "source": [
        "import numpy as np"
      ],
      "metadata": {
        "id": "TJVZ4-UW4cfJ"
      },
      "execution_count": 21,
      "outputs": []
    },
    {
      "cell_type": "code",
      "source": [
        "probs = model.predict(test_X, verbose=0)\n",
        "# Extract classes\n",
        "probs = probs.round().flatten()"
      ],
      "metadata": {
        "id": "fSsSnFIxLPGy"
      },
      "execution_count": 24,
      "outputs": []
    },
    {
      "cell_type": "code",
      "source": [
        "print(f\"Comparaison of predicted vs. actual {probs == test_y}\")\n",
        "print(f\"Evaluate the output: {model.evaluate(test_X, test_y)}\")"
      ],
      "metadata": {
        "colab": {
          "base_uri": "https://localhost:8080/"
        },
        "id": "Hk4WkTB_LeOl",
        "outputId": "0796f740-bf62-4e40-8e40-d2b32309e39e"
      },
      "execution_count": 25,
      "outputs": [
        {
          "output_type": "stream",
          "name": "stdout",
          "text": [
            "Comparaison of predicted vs. actual [ True  True  True  True  True  True  True  True  True  True  True  True\n",
            "  True  True  True  True  True  True  True  True False  True  True  True\n",
            "  True  True  True  True  True  True  True  True  True  True  True  True\n",
            "  True  True  True  True  True  True  True  True  True  True  True  True\n",
            "  True  True  True  True False  True  True  True  True  True  True  True\n",
            "  True  True  True  True  True  True  True  True  True  True  True  True\n",
            "  True  True  True  True  True  True  True  True  True  True  True  True\n",
            "  True  True  True  True  True  True  True  True  True  True  True  True\n",
            "  True  True  True  True  True  True  True  True  True  True  True  True\n",
            "  True  True  True  True  True  True  True  True  True  True  True  True\n",
            "  True  True  True  True  True  True  True  True  True  True  True  True\n",
            "  True  True  True  True  True  True  True  True  True  True  True  True\n",
            "  True  True  True  True  True  True  True  True  True  True  True  True\n",
            "  True  True  True  True  True  True  True  True  True  True  True  True\n",
            "  True  True  True]\n",
            "6/6 [==============================] - 0s 4ms/step - loss: 0.0731 - accuracy: 0.9883\n",
            "Evaluate the output: [0.07312221080064774, 0.988304078578949]\n"
          ]
        }
      ]
    },
    {
      "cell_type": "code",
      "source": [
        "print(f\"Comparaison of predicted vs. actual {(probs == test_y).sum() / probs.shape[0]:.3f}%\")"
      ],
      "metadata": {
        "colab": {
          "base_uri": "https://localhost:8080/"
        },
        "id": "GBR1WpzsL9UA",
        "outputId": "22f9cf94-4566-4b6e-bcb1-e80f02802c2f"
      },
      "execution_count": 28,
      "outputs": [
        {
          "output_type": "stream",
          "name": "stdout",
          "text": [
            "Comparaison of predicted vs. actual 0.988%\n"
          ]
        }
      ]
    },
    {
      "cell_type": "code",
      "source": [
        "model.save('breast_cancer_linear_classifer.h5')"
      ],
      "metadata": {
        "colab": {
          "base_uri": "https://localhost:8080/"
        },
        "id": "d94pQ4p1MH7Q",
        "outputId": "a6bf742b-7225-45c6-da27-006536570d7d"
      },
      "execution_count": 29,
      "outputs": [
        {
          "output_type": "stream",
          "name": "stderr",
          "text": [
            "/usr/local/lib/python3.10/dist-packages/keras/src/engine/training.py:3000: UserWarning: You are saving your model as an HDF5 file via `model.save()`. This file format is considered legacy. We recommend using instead the native Keras format, e.g. `model.save('my_model.keras')`.\n",
            "  saving_api.save_model(\n"
          ]
        }
      ]
    },
    {
      "cell_type": "code",
      "source": [],
      "metadata": {
        "id": "mbMPs-tPMz3o"
      },
      "execution_count": null,
      "outputs": []
    }
  ]
}